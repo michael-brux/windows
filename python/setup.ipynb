{
 "cells": [
  {
   "cell_type": "markdown",
   "id": "0389a404-860c-457d-9869-3044ebb21cab",
   "metadata": {},
   "source": [
    "# Python Windows Setup\n",
    "[Python Launcher for Windows](https://docs.python.org/3/using/windows.html#python-launcher-for-windows)  \n",
    "\n",
    "## Windows commands\n",
    "[assoc](https://learn.microsoft.com/en-us/windows-server/administration/windows-commands/assoc)  \n",
    "[ftype](https://learn.microsoft.com/en-us/windows-server/administration/windows-commands/ftype)"
   ]
  },
  {
   "cell_type": "code",
   "execution_count": 2,
   "id": "773ae0b2-b679-4149-ba3f-91c84aee0227",
   "metadata": {},
   "outputs": [
    {
     "name": "stdout",
     "output_type": "stream",
     "text": [
      "C:\\WINDOWS\\py.EXE\n"
     ]
    }
   ],
   "source": [
    "# Python Windows launcher\n",
    "from shutil import which\n",
    "print(which(\"py\"))"
   ]
  },
  {
   "cell_type": "code",
   "execution_count": 11,
   "id": "82adbb70-09ca-4d81-884e-faafc135d906",
   "metadata": {},
   "outputs": [
    {
     "name": "stdout",
     "output_type": "stream",
     "text": [
      ".py=Python.File\n",
      "\n",
      "Python.File=\"C:\\Windows\\py.exe\" \"%1\" %*\n",
      "\n"
     ]
    }
   ],
   "source": [
    "import subprocess\n",
    "def view_assoc(extension:str=\".py\") -> str:\n",
    "    result = subprocess.run([\"cmd\", \"/c\", \"assoc\", extension], text=True, capture_output=True)\n",
    "    return result.stdout\n",
    "def view_ftype(filetype:str=\"Python.File\") -> str:\n",
    "    result = subprocess.run([\"cmd\", \"/c\", \"ftype\", filetype], text=True, capture_output=True)\n",
    "    return result.stdout\n",
    "print(view_assoc())\n",
    "print(view_ftype())"
   ]
  },
  {
   "cell_type": "code",
   "execution_count": null,
   "id": "b3614bdb-1230-4f04-87f1-48f164d3fd4d",
   "metadata": {},
   "outputs": [],
   "source": []
  }
 ],
 "metadata": {
  "kernelspec": {
   "display_name": "Python 3 (ipykernel)",
   "language": "python",
   "name": "python3"
  },
  "language_info": {
   "codemirror_mode": {
    "name": "ipython",
    "version": 3
   },
   "file_extension": ".py",
   "mimetype": "text/x-python",
   "name": "python",
   "nbconvert_exporter": "python",
   "pygments_lexer": "ipython3",
   "version": "3.13.2"
  }
 },
 "nbformat": 4,
 "nbformat_minor": 5
}
